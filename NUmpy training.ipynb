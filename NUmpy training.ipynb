{
 "cells": [
  {
   "cell_type": "code",
   "execution_count": 1,
   "id": "2b313904-b340-41af-83d3-50927415ff6c",
   "metadata": {},
   "outputs": [],
   "source": [
    "import numpy as np"
   ]
  },
  {
   "cell_type": "code",
   "execution_count": 17,
   "id": "1d17c45d-46bf-45a5-9072-bfc1dd1a3bed",
   "metadata": {},
   "outputs": [
    {
     "name": "stdout",
     "output_type": "stream",
     "text": [
      "[1 2 3]\n"
     ]
    }
   ],
   "source": [
    "a = np.array([1, 2, 3], dtype = \"int32\")\n",
    "print(a)"
   ]
  },
  {
   "cell_type": "code",
   "execution_count": 18,
   "id": "846d1bd1-b746-49c5-a0fe-7575491e9af1",
   "metadata": {},
   "outputs": [
    {
     "name": "stdout",
     "output_type": "stream",
     "text": [
      "[[9. 8. 7.]\n",
      " [6. 5. 4.]]\n"
     ]
    }
   ],
   "source": [
    "b = np.array([[9.0, 8.0, 7.0], [6.0, 5.0, 4.0]])\n",
    "print(b)"
   ]
  },
  {
   "cell_type": "code",
   "execution_count": 19,
   "id": "98a630d6-e100-4d82-b440-5b85d6a48b96",
   "metadata": {},
   "outputs": [
    {
     "data": {
      "text/plain": [
       "2"
      ]
     },
     "execution_count": 19,
     "metadata": {},
     "output_type": "execute_result"
    }
   ],
   "source": [
    "# Get dimension\n",
    "\n",
    "a.ndim\n",
    "b.ndim"
   ]
  },
  {
   "cell_type": "code",
   "execution_count": 20,
   "id": "af26ecd1-5681-464f-b217-e94e0c09141d",
   "metadata": {},
   "outputs": [
    {
     "data": {
      "text/plain": [
       "(2, 3)"
      ]
     },
     "execution_count": 20,
     "metadata": {},
     "output_type": "execute_result"
    }
   ],
   "source": [
    "b.shape"
   ]
  },
  {
   "cell_type": "code",
   "execution_count": 21,
   "id": "1a4d19a4-5451-4ad8-ad37-fb34ffe995cf",
   "metadata": {},
   "outputs": [
    {
     "data": {
      "text/plain": [
       "dtype('int32')"
      ]
     },
     "execution_count": 21,
     "metadata": {},
     "output_type": "execute_result"
    }
   ],
   "source": [
    "#Get type\n",
    "\n",
    "a.dtype"
   ]
  },
  {
   "cell_type": "code",
   "execution_count": 22,
   "id": "5c7a2139-7650-4d81-b38a-be4137063ee7",
   "metadata": {},
   "outputs": [
    {
     "data": {
      "text/plain": [
       "4"
      ]
     },
     "execution_count": 22,
     "metadata": {},
     "output_type": "execute_result"
    }
   ],
   "source": [
    "a.itemsize"
   ]
  },
  {
   "cell_type": "code",
   "execution_count": 25,
   "id": "6c82a17e-65f2-43c0-884c-170411cabb5e",
   "metadata": {},
   "outputs": [
    {
     "data": {
      "text/plain": [
       "12"
      ]
     },
     "execution_count": 25,
     "metadata": {},
     "output_type": "execute_result"
    }
   ],
   "source": [
    "#Get total size no1\n",
    "\n",
    "a.size * a.itemsize"
   ]
  },
  {
   "cell_type": "code",
   "execution_count": 26,
   "id": "bf5703c4-05d6-4c8a-8d9c-f154f871ffed",
   "metadata": {},
   "outputs": [
    {
     "data": {
      "text/plain": [
       "12"
      ]
     },
     "execution_count": 26,
     "metadata": {},
     "output_type": "execute_result"
    }
   ],
   "source": [
    "#Get total size no2\n",
    "\n",
    "a.nbytes"
   ]
  },
  {
   "cell_type": "code",
   "execution_count": 27,
   "id": "804fcde0-b78f-424e-965c-c79a7f6bc3d3",
   "metadata": {},
   "outputs": [
    {
     "data": {
      "text/plain": [
       "48"
      ]
     },
     "execution_count": 27,
     "metadata": {},
     "output_type": "execute_result"
    }
   ],
   "source": [
    "b.nbytes"
   ]
  },
  {
   "cell_type": "code",
   "execution_count": 29,
   "id": "da33647f-4c63-45ad-b63f-d47a0eba7fd8",
   "metadata": {},
   "outputs": [
    {
     "name": "stdout",
     "output_type": "stream",
     "text": [
      "[[ 1  2  3  4  5  6  7]\n",
      " [ 8  9 10 11 12 13 14]]\n"
     ]
    }
   ],
   "source": [
    "a= np.array ([[1,2,3,4,5,6,7],[8,9,10,11,12,13,14]])\n",
    "print(a)"
   ]
  },
  {
   "cell_type": "code",
   "execution_count": 30,
   "id": "3c79ae4a-77ee-43e6-9bc2-a6b3274d7dec",
   "metadata": {},
   "outputs": [
    {
     "data": {
      "text/plain": [
       "(2, 7)"
      ]
     },
     "execution_count": 30,
     "metadata": {},
     "output_type": "execute_result"
    }
   ],
   "source": [
    "a.shape"
   ]
  },
  {
   "cell_type": "code",
   "execution_count": 31,
   "id": "6d0a5527-ed28-4fcb-ac9f-dc79aa813b34",
   "metadata": {},
   "outputs": [
    {
     "data": {
      "text/plain": [
       "13"
      ]
     },
     "execution_count": 31,
     "metadata": {},
     "output_type": "execute_result"
    }
   ],
   "source": [
    "# 1 eilute yra nuline, 2 eilyte 1 ir t.t.\n",
    "a[1, 5]"
   ]
  },
  {
   "cell_type": "code",
   "execution_count": 32,
   "id": "230118d0-4cfe-400b-a8f6-44ca29e1dcb5",
   "metadata": {},
   "outputs": [
    {
     "data": {
      "text/plain": [
       "array([1, 2, 3, 4, 5, 6, 7])"
      ]
     },
     "execution_count": 32,
     "metadata": {},
     "output_type": "execute_result"
    }
   ],
   "source": [
    "#get specific row: 1 skaicius eilute, antras skaicius stulpelis\n",
    "\n",
    "a[0, :]"
   ]
  },
  {
   "cell_type": "code",
   "execution_count": 33,
   "id": "0e3e67f3-c450-4ee7-a1db-11f8bf99163b",
   "metadata": {},
   "outputs": [
    {
     "data": {
      "text/plain": [
       "array([ 3, 10])"
      ]
     },
     "execution_count": 33,
     "metadata": {},
     "output_type": "execute_result"
    }
   ],
   "source": [
    "#get specific column\n",
    "\n",
    "a[: , 2]"
   ]
  },
  {
   "cell_type": "code",
   "execution_count": 38,
   "id": "798f8b89-40ba-49d7-b294-0231c3d84934",
   "metadata": {},
   "outputs": [
    {
     "data": {
      "text/plain": [
       "array([2, 4, 6])"
      ]
     },
     "execution_count": 38,
     "metadata": {},
     "output_type": "execute_result"
    }
   ],
   "source": [
    "# Geting more fancy [startindex:endindex:stepsize]\n",
    "\n",
    "a[0, 1:6:2]\n",
    "\n"
   ]
  },
  {
   "cell_type": "code",
   "execution_count": 39,
   "id": "ee8a0fdb-22e7-4fd4-a366-95a914654ec3",
   "metadata": {},
   "outputs": [
    {
     "name": "stdout",
     "output_type": "stream",
     "text": [
      "[[ 1  2  3  4  5  6  7]\n",
      " [ 8  9 10 11 12 20 14]]\n"
     ]
    }
   ],
   "source": [
    "a[1,5]=20\n",
    "print(a)"
   ]
  },
  {
   "cell_type": "code",
   "execution_count": 40,
   "id": "005df331-99ed-49a5-9725-6235a1f59ebc",
   "metadata": {},
   "outputs": [
    {
     "name": "stdout",
     "output_type": "stream",
     "text": [
      "[[ 1  2  5  4  5  6  7]\n",
      " [ 8  9  5 11 12 20 14]]\n"
     ]
    }
   ],
   "source": [
    "a[:, 2]=5\n",
    "print(a)"
   ]
  },
  {
   "cell_type": "code",
   "execution_count": 41,
   "id": "6f52250b-795a-4cf5-8efe-db3f8d4c2d72",
   "metadata": {},
   "outputs": [
    {
     "name": "stdout",
     "output_type": "stream",
     "text": [
      "[[ 1  2  1  4  5  6  7]\n",
      " [ 8  9  2 11 12 20 14]]\n"
     ]
    }
   ],
   "source": [
    "a[:, 2]=[1, 2]\n",
    "print(a)"
   ]
  },
  {
   "cell_type": "code",
   "execution_count": 44,
   "id": "978a69f5-93c9-458a-972c-eec30cbf8003",
   "metadata": {},
   "outputs": [
    {
     "name": "stdout",
     "output_type": "stream",
     "text": [
      "[[[1 2]\n",
      "  [3 4]]\n",
      "\n",
      " [[5 6]\n",
      "  [7 8]]]\n"
     ]
    }
   ],
   "source": [
    "# 3 d example\n",
    "\n",
    "b= np.array([[[1,2], [3,4]], [[5,6], [7,8]]])\n",
    "print(b)"
   ]
  },
  {
   "cell_type": "code",
   "execution_count": 45,
   "id": "557b6ccc-5b16-4ee0-ace4-81d7c41d8da3",
   "metadata": {},
   "outputs": [
    {
     "data": {
      "text/plain": [
       "4"
      ]
     },
     "execution_count": 45,
     "metadata": {},
     "output_type": "execute_result"
    }
   ],
   "source": [
    "#get a specific element (work outside in). I puse pasirenkame su 0, tada antra eilute pasirenkame su 1, ir pasirenkame antra skaiciu su 1\n",
    "\n",
    "b[0,1,1]"
   ]
  },
  {
   "cell_type": "code",
   "execution_count": 47,
   "id": "c48d6780-9c8b-44ad-bcea-cd9217e8e990",
   "metadata": {},
   "outputs": [
    {
     "data": {
      "text/plain": [
       "array([[3, 4],\n",
       "       [7, 8]])"
      ]
     },
     "execution_count": 47,
     "metadata": {},
     "output_type": "execute_result"
    }
   ],
   "source": [
    "# jeigu nori antras eilutes is abieju elemetu isimti\n",
    "\n",
    "b[: , 1, :]"
   ]
  },
  {
   "cell_type": "code",
   "execution_count": 49,
   "id": "6944c82f-d2b0-405d-9a1e-a596ba4c024b",
   "metadata": {},
   "outputs": [
    {
     "data": {
      "text/plain": [
       "array([[2, 4],\n",
       "       [6, 8]])"
      ]
     },
     "execution_count": 49,
     "metadata": {},
     "output_type": "execute_result"
    }
   ],
   "source": [
    "# jeigu nori antrus stulpelius is abieju elemetu isimti\n",
    "\n",
    "b[:, :, 1]"
   ]
  },
  {
   "cell_type": "code",
   "execution_count": 51,
   "id": "6042b5df-2e86-40ca-8ae1-59f03e23fb6c",
   "metadata": {},
   "outputs": [
    {
     "name": "stdout",
     "output_type": "stream",
     "text": [
      "[[[1 2]\n",
      "  [9 9]]\n",
      "\n",
      " [[5 6]\n",
      "  [8 8]]]\n"
     ]
    }
   ],
   "source": [
    "# replace\n",
    "\n",
    "b[:,1,:]=[[9,9],[8,8]]\n",
    "print(b)"
   ]
  },
  {
   "cell_type": "code",
   "execution_count": 52,
   "id": "a9758aad-a431-4858-913e-be9bddfc3a90",
   "metadata": {},
   "outputs": [
    {
     "data": {
      "text/plain": [
       "array([0., 0., 0., 0., 0.])"
      ]
     },
     "execution_count": 52,
     "metadata": {},
     "output_type": "execute_result"
    }
   ],
   "source": [
    "# ALL 0s Matrix\n",
    "np.zeros(5)"
   ]
  },
  {
   "cell_type": "code",
   "execution_count": 56,
   "id": "7eebfa11-4549-45f4-9349-a9953ad05e45",
   "metadata": {},
   "outputs": [
    {
     "data": {
      "text/plain": [
       "array([[0., 0., 0.],\n",
       "       [0., 0., 0.]])"
      ]
     },
     "execution_count": 56,
     "metadata": {},
     "output_type": "execute_result"
    }
   ],
   "source": [
    "np.zeros((2, 3,))"
   ]
  },
  {
   "cell_type": "code",
   "execution_count": 63,
   "id": "4716e987-0cf3-44ab-9404-d41e92a2ac85",
   "metadata": {},
   "outputs": [
    {
     "data": {
      "text/plain": [
       "array([[[1, 1],\n",
       "        [1, 1]],\n",
       "\n",
       "       [[1, 1],\n",
       "        [1, 1]],\n",
       "\n",
       "       [[1, 1],\n",
       "        [1, 1]],\n",
       "\n",
       "       [[1, 1],\n",
       "        [1, 1]]])"
      ]
     },
     "execution_count": 63,
     "metadata": {},
     "output_type": "execute_result"
    }
   ],
   "source": [
    "# ALL 1s Matrix\n",
    "\n",
    "np.ones((4, 2, 2), dtype= \"int32\")"
   ]
  },
  {
   "cell_type": "code",
   "execution_count": 62,
   "id": "873fb709-aa27-46af-b084-c312bcb62981",
   "metadata": {},
   "outputs": [
    {
     "data": {
      "text/plain": [
       "array([[99., 99.],\n",
       "       [99., 99.]], dtype=float32)"
      ]
     },
     "execution_count": 62,
     "metadata": {},
     "output_type": "execute_result"
    }
   ],
   "source": [
    "# Any other number\n",
    "\n",
    "np.full((2, 2 ), 99, dtype= \"float32\")"
   ]
  },
  {
   "cell_type": "code",
   "execution_count": 66,
   "id": "e952cf6d-c98d-4af1-9d4a-23b88f0bbe3a",
   "metadata": {},
   "outputs": [
    {
     "data": {
      "text/plain": [
       "array([[4, 4, 4, 4, 4, 4, 4],\n",
       "       [4, 4, 4, 4, 4, 4, 4]])"
      ]
     },
     "execution_count": 66,
     "metadata": {},
     "output_type": "execute_result"
    }
   ],
   "source": [
    "# any other number (full like) no1\n",
    "np.full_like(a, 4)"
   ]
  },
  {
   "cell_type": "code",
   "execution_count": 67,
   "id": "07faca90-9733-40bf-b586-a1d0969035fe",
   "metadata": {},
   "outputs": [
    {
     "data": {
      "text/plain": [
       "array([[4, 4, 4, 4, 4, 4, 4],\n",
       "       [4, 4, 4, 4, 4, 4, 4]])"
      ]
     },
     "execution_count": 67,
     "metadata": {},
     "output_type": "execute_result"
    }
   ],
   "source": [
    "# any other number (full like) no2\n",
    "np.full(a.shape, 4)"
   ]
  },
  {
   "cell_type": "code",
   "execution_count": 69,
   "id": "56090a8c-283d-4aaf-b96d-dd2bf8ab5189",
   "metadata": {},
   "outputs": [
    {
     "data": {
      "text/plain": [
       "array([[[0.09231055, 0.41033094, 0.77289954],\n",
       "        [0.21824023, 0.43414217, 0.64896931]],\n",
       "\n",
       "       [[0.14840944, 0.67091322, 0.65111498],\n",
       "        [0.48564146, 0.75890583, 0.36907979]],\n",
       "\n",
       "       [[0.91057941, 0.49112741, 0.40494776],\n",
       "        [0.51841653, 0.0366963 , 0.66472932]],\n",
       "\n",
       "       [[0.3202708 , 0.99751054, 0.99792958],\n",
       "        [0.48368934, 0.9136468 , 0.05360952]]])"
      ]
     },
     "execution_count": 69,
     "metadata": {},
     "output_type": "execute_result"
    }
   ],
   "source": [
    "#Random decimal numbers (atsiminti kad nereikia dvigubu skliautu su random)\n",
    "np.random.rand(4, 2, 3)"
   ]
  },
  {
   "cell_type": "code",
   "execution_count": 70,
   "id": "b375c8e6-1695-4901-8684-f6173bfa5831",
   "metadata": {},
   "outputs": [
    {
     "data": {
      "text/plain": [
       "array([[0.8400005 , 0.13309767, 0.11664123, 0.8479785 , 0.85800073,\n",
       "        0.92320462, 0.43412977],\n",
       "       [0.95625415, 0.56329349, 0.22558806, 0.89583039, 0.003275  ,\n",
       "        0.15570311, 0.06195235]])"
      ]
     },
     "execution_count": 70,
     "metadata": {},
     "output_type": "execute_result"
    }
   ],
   "source": [
    "#Random decimal numbers (atsiminti kad nereikia dvigubu skliautu su random)\n",
    "np.random.random_sample(a.shape)"
   ]
  },
  {
   "cell_type": "code",
   "execution_count": 76,
   "id": "b5a9215f-97b3-4ca8-84db-1a8a51478cfc",
   "metadata": {},
   "outputs": [
    {
     "data": {
      "text/plain": [
       "array([[7, 4, 5],\n",
       "       [6, 5, 5],\n",
       "       [7, 6, 5]])"
      ]
     },
     "execution_count": 76,
     "metadata": {},
     "output_type": "execute_result"
    }
   ],
   "source": [
    "# random integger numbers\n",
    "\n",
    "np.random.randint(4, 8, size=(3,3))"
   ]
  },
  {
   "cell_type": "code",
   "execution_count": 112,
   "id": "5b555efa-9f78-4fd7-8404-7f0a7c1b5403",
   "metadata": {},
   "outputs": [
    {
     "data": {
      "text/plain": [
       "array([[1., 0., 0., 0., 0.],\n",
       "       [0., 1., 0., 0., 0.],\n",
       "       [0., 0., 1., 0., 0.],\n",
       "       [0., 0., 0., 1., 0.],\n",
       "       [0., 0., 0., 0., 1.]])"
      ]
     },
     "execution_count": 112,
     "metadata": {},
     "output_type": "execute_result"
    }
   ],
   "source": [
    "#The identity matrix\n",
    "\n",
    "np.identity(5)"
   ]
  },
  {
   "cell_type": "code",
   "execution_count": 83,
   "id": "6023dc18-99b7-4be5-8b78-a7ee614d3cfc",
   "metadata": {},
   "outputs": [
    {
     "name": "stdout",
     "output_type": "stream",
     "text": [
      "[[1 2 3]\n",
      " [1 2 3]\n",
      " [1 2 3]]\n"
     ]
    }
   ],
   "source": [
    "#repeat an aray\n",
    "arr = np.array([[1, 2, 3]])\n",
    "r1 = np.repeat(arr, 3, axis=0)\n",
    "print(r1)"
   ]
  },
  {
   "cell_type": "code",
   "execution_count": 89,
   "id": "89f17a65-ca50-4601-9bfc-7c6953a2d542",
   "metadata": {},
   "outputs": [
    {
     "name": "stdout",
     "output_type": "stream",
     "text": [
      "[[1. 1. 1. 1. 1.]\n",
      " [1. 0. 0. 0. 1.]\n",
      " [1. 0. 9. 0. 1.]\n",
      " [1. 0. 0. 0. 1.]\n",
      " [1. 1. 1. 1. 1.]]\n"
     ]
    }
   ],
   "source": [
    "#padaryti specifine lentele\n",
    "output = np.ones((5,5))\n",
    "\n",
    "\n",
    "z = np.zeros((3,3))\n",
    "z[1, 1] = 9\n",
    "\n",
    "\n",
    "output[1:4, 1:4] = z\n",
    "print(output)"
   ]
  },
  {
   "cell_type": "code",
   "execution_count": 93,
   "id": "8fb29141-8fbb-484e-a73f-9795889f6062",
   "metadata": {},
   "outputs": [
    {
     "name": "stdout",
     "output_type": "stream",
     "text": [
      "[100   2   3]\n",
      "[100   2   3]\n"
     ]
    }
   ],
   "source": [
    "## be careful when copying arrays, nes pasikeicia abu pakeitus bent viena\n",
    "\n",
    "a = np.array([1, 2, 3])\n",
    "b = a\n",
    "b[0] = 100\n",
    "print(b)\n",
    "print(a)"
   ]
  },
  {
   "cell_type": "code",
   "execution_count": 94,
   "id": "5b51dd32-9e31-49c2-bb31-1b85e59eda13",
   "metadata": {},
   "outputs": [
    {
     "name": "stdout",
     "output_type": "stream",
     "text": [
      "[100   2   3]\n",
      "[1 2 3]\n"
     ]
    }
   ],
   "source": [
    "# isspresti tai galima naudojant copy()\n",
    "\n",
    "a = np.array([1, 2, 3])\n",
    "b = a.copy()\n",
    "b[0] = 100\n",
    "print(b)\n",
    "print(a)"
   ]
  },
  {
   "cell_type": "code",
   "execution_count": 95,
   "id": "8ea99863-b9f8-4df2-8e5c-93f0f9d81231",
   "metadata": {},
   "outputs": [
    {
     "name": "stdout",
     "output_type": "stream",
     "text": [
      "[1 2 3 4]\n"
     ]
    }
   ],
   "source": [
    "a = np.array([1, 2, 3, 4])\n",
    "print(a)"
   ]
  },
  {
   "cell_type": "code",
   "execution_count": 96,
   "id": "00c854dc-1f3a-47ee-89af-aa8e8da74f8f",
   "metadata": {},
   "outputs": [
    {
     "data": {
      "text/plain": [
       "array([3, 4, 5, 6])"
      ]
     },
     "execution_count": 96,
     "metadata": {},
     "output_type": "execute_result"
    }
   ],
   "source": [
    "a+2"
   ]
  },
  {
   "cell_type": "code",
   "execution_count": 97,
   "id": "ef254d5b-fd91-441f-a8f6-26676b478014",
   "metadata": {},
   "outputs": [
    {
     "data": {
      "text/plain": [
       "array([-1,  0,  1,  2])"
      ]
     },
     "execution_count": 97,
     "metadata": {},
     "output_type": "execute_result"
    }
   ],
   "source": [
    "a-2"
   ]
  },
  {
   "cell_type": "code",
   "execution_count": 98,
   "id": "dd8e7bf5-7496-4b36-a388-d8602eb4936f",
   "metadata": {},
   "outputs": [
    {
     "data": {
      "text/plain": [
       "array([2, 4, 6, 8])"
      ]
     },
     "execution_count": 98,
     "metadata": {},
     "output_type": "execute_result"
    }
   ],
   "source": [
    "a*2"
   ]
  },
  {
   "cell_type": "code",
   "execution_count": 99,
   "id": "490e2f4d-4fc5-4cc4-afa4-8c15bb81aba6",
   "metadata": {},
   "outputs": [
    {
     "data": {
      "text/plain": [
       "array([0.5, 1. , 1.5, 2. ])"
      ]
     },
     "execution_count": 99,
     "metadata": {},
     "output_type": "execute_result"
    }
   ],
   "source": [
    "a/2"
   ]
  },
  {
   "cell_type": "code",
   "execution_count": 101,
   "id": "b26cd135-ef37-4f42-b6ff-57dda08c459b",
   "metadata": {},
   "outputs": [
    {
     "data": {
      "text/plain": [
       "array([2, 2, 4, 4])"
      ]
     },
     "execution_count": 101,
     "metadata": {},
     "output_type": "execute_result"
    }
   ],
   "source": [
    "b = np.array([1, 0, 1, 0])\n",
    "a+b"
   ]
  },
  {
   "cell_type": "code",
   "execution_count": 102,
   "id": "1d40f590-3cd4-40cd-b0ec-8f8808f18e40",
   "metadata": {},
   "outputs": [
    {
     "data": {
      "text/plain": [
       "array([ 1,  4,  9, 16], dtype=int32)"
      ]
     },
     "execution_count": 102,
     "metadata": {},
     "output_type": "execute_result"
    }
   ],
   "source": [
    "#kelimas laipsniu\n",
    "a**2"
   ]
  },
  {
   "cell_type": "code",
   "execution_count": 103,
   "id": "047394f0-2b42-4b22-9352-99b664ce7aca",
   "metadata": {},
   "outputs": [
    {
     "data": {
      "text/plain": [
       "array([ 0.84147098,  0.90929743,  0.14112001, -0.7568025 ])"
      ]
     },
     "execution_count": 103,
     "metadata": {},
     "output_type": "execute_result"
    }
   ],
   "source": [
    "#take the sin\n",
    "\n",
    "np.sin(a)"
   ]
  },
  {
   "cell_type": "code",
   "execution_count": 104,
   "id": "07f05a7f-dec5-4881-83a1-b88412630c43",
   "metadata": {},
   "outputs": [
    {
     "data": {
      "text/plain": [
       "array([ 0.54030231, -0.41614684, -0.9899925 , -0.65364362])"
      ]
     },
     "execution_count": 104,
     "metadata": {},
     "output_type": "execute_result"
    }
   ],
   "source": [
    "#take cosinus\n",
    "np.cos(a)"
   ]
  },
  {
   "cell_type": "code",
   "execution_count": 105,
   "id": "c9ae85ff-5096-4e6c-a1fd-8831c0b95355",
   "metadata": {},
   "outputs": [],
   "source": [
    "####### Linear Algebra"
   ]
  },
  {
   "cell_type": "code",
   "execution_count": 109,
   "id": "2f06afe4-7e0b-483c-8e42-723dc9a8e5a5",
   "metadata": {},
   "outputs": [
    {
     "name": "stdout",
     "output_type": "stream",
     "text": [
      "[[1. 1. 1.]\n",
      " [1. 1. 1.]]\n",
      "[[2 2]\n",
      " [2 2]\n",
      " [2 2]]\n"
     ]
    },
    {
     "data": {
      "text/plain": [
       "array([[6., 6.],\n",
       "       [6., 6.]])"
      ]
     },
     "execution_count": 109,
     "metadata": {},
     "output_type": "execute_result"
    }
   ],
   "source": [
    "a = np.ones((2, 3))\n",
    "print(a)\n",
    "\n",
    "b = np.full((3,2), 2)\n",
    "print(b)\n",
    "\n",
    "np.matmul(a,b)"
   ]
  },
  {
   "cell_type": "code",
   "execution_count": 110,
   "id": "851e89e7-fd01-4ebd-9241-d244a667f69f",
   "metadata": {},
   "outputs": [
    {
     "data": {
      "text/plain": [
       "1.0"
      ]
     },
     "execution_count": 110,
     "metadata": {},
     "output_type": "execute_result"
    }
   ],
   "source": [
    "# find determinant\n",
    "c = np.identity(3)\n",
    "np.linalg.det(c)"
   ]
  },
  {
   "cell_type": "code",
   "execution_count": 113,
   "id": "84fa7546-d11c-4292-b9e9-82519867fd06",
   "metadata": {},
   "outputs": [],
   "source": [
    "### STatistics"
   ]
  },
  {
   "cell_type": "code",
   "execution_count": 115,
   "id": "712441c1-5f99-47f2-b22d-279a055773f0",
   "metadata": {},
   "outputs": [
    {
     "data": {
      "text/plain": [
       "array([[1, 2, 3],\n",
       "       [4, 5, 6]])"
      ]
     },
     "execution_count": 115,
     "metadata": {},
     "output_type": "execute_result"
    }
   ],
   "source": [
    "stats = np.array([[1,2,3],[4,5,6]])\n",
    "stats"
   ]
  },
  {
   "cell_type": "code",
   "execution_count": 118,
   "id": "9475cd89-46f6-418f-a5b4-f1fee829b461",
   "metadata": {},
   "outputs": [
    {
     "data": {
      "text/plain": [
       "array([1, 4])"
      ]
     },
     "execution_count": 118,
     "metadata": {},
     "output_type": "execute_result"
    }
   ],
   "source": [
    "np.min(stats, axis = 1)"
   ]
  },
  {
   "cell_type": "code",
   "execution_count": 121,
   "id": "83c1d926-2b9b-418b-b918-ba17d4b07141",
   "metadata": {},
   "outputs": [
    {
     "data": {
      "text/plain": [
       "array([3, 6])"
      ]
     },
     "execution_count": 121,
     "metadata": {},
     "output_type": "execute_result"
    }
   ],
   "source": [
    "np.max(stats, axis = 1)"
   ]
  },
  {
   "cell_type": "code",
   "execution_count": 125,
   "id": "e06d4408-2ca6-4c5e-b81e-77c74e309578",
   "metadata": {},
   "outputs": [
    {
     "data": {
      "text/plain": [
       "array([ 6, 15])"
      ]
     },
     "execution_count": 125,
     "metadata": {},
     "output_type": "execute_result"
    }
   ],
   "source": [
    "np.sum(stats, axis=1)"
   ]
  },
  {
   "cell_type": "code",
   "execution_count": 126,
   "id": "09b8f9df-5953-443f-bce0-05b9a2f73014",
   "metadata": {},
   "outputs": [
    {
     "data": {
      "text/plain": [
       "array([5, 7, 9])"
      ]
     },
     "execution_count": 126,
     "metadata": {},
     "output_type": "execute_result"
    }
   ],
   "source": [
    "np.sum(stats, axis = 0)"
   ]
  },
  {
   "cell_type": "code",
   "execution_count": 129,
   "id": "5e73a038-ed43-4fdd-add2-f560d3591b33",
   "metadata": {},
   "outputs": [
    {
     "name": "stdout",
     "output_type": "stream",
     "text": [
      "[[1 2 3 4]\n",
      " [5 6 7 8]]\n",
      "(2, 4)\n",
      "[[1 2]\n",
      " [3 4]\n",
      " [5 6]\n",
      " [7 8]]\n"
     ]
    }
   ],
   "source": [
    "before = np.array([[1,2,3, 4],[5,6,7,8]])\n",
    "print(before)\n",
    "print(before.shape)\n",
    "\n",
    "after = before.reshape ((4,2))\n",
    "print(after)"
   ]
  },
  {
   "cell_type": "code",
   "execution_count": 131,
   "id": "e9987530-ad6c-47c9-9347-04e85b4170b9",
   "metadata": {},
   "outputs": [
    {
     "data": {
      "text/plain": [
       "array([[1, 2, 3, 4],\n",
       "       [5, 6, 7, 8],\n",
       "       [1, 2, 3, 4],\n",
       "       [5, 6, 7, 8]])"
      ]
     },
     "execution_count": 131,
     "metadata": {},
     "output_type": "execute_result"
    }
   ],
   "source": [
    "#verticlly stack vectors\n",
    "\n",
    "v1 = np.array([1,2,3, 4])\n",
    "v2 = np.array([5,6,7,8])\n",
    "\n",
    "np.vstack([v1, v2, v1, v2])"
   ]
  },
  {
   "cell_type": "code",
   "execution_count": 136,
   "id": "dac73742-6f01-4e86-8509-ba8a7267070c",
   "metadata": {},
   "outputs": [
    {
     "data": {
      "text/plain": [
       "array([[1., 1., 1., 1., 0., 0.],\n",
       "       [1., 1., 1., 1., 0., 0.]])"
      ]
     },
     "execution_count": 136,
     "metadata": {},
     "output_type": "execute_result"
    }
   ],
   "source": [
    "#horizontal stack \n",
    "\n",
    "h1 = np.ones((2, 4))\n",
    "h2 = np.zeros((2,2))\n",
    "\n",
    "np.hstack((h1, h2))"
   ]
  },
  {
   "cell_type": "code",
   "execution_count": 142,
   "id": "f929e3ff-435b-4eb2-8da7-dbc6fafa4fce",
   "metadata": {},
   "outputs": [
    {
     "data": {
      "text/plain": [
       "array([[  1,   2,   4,   5,   6,   8,  55,  61],\n",
       "       [  2,   9,   8,   7,  22, 333,  66,   7],\n",
       "       [ 55,  44,  98,  13,  46,  78,  91,   0]])"
      ]
     },
     "execution_count": 142,
     "metadata": {},
     "output_type": "execute_result"
    }
   ],
   "source": [
    "###Miscellaneous\n",
    "\n",
    "filedata = np.genfromtxt (\"C:/Users/Vartotojas/Desktop/Data.txt\", delimiter = \",\" )\n",
    "filedata = filedata.astype(\"int32\")\n",
    "filedata"
   ]
  },
  {
   "cell_type": "code",
   "execution_count": 143,
   "id": "3a8ea1c9-c6a0-49e7-b4d0-0bb52659259a",
   "metadata": {},
   "outputs": [],
   "source": [
    "## advancedindexing, Boolean, masking"
   ]
  },
  {
   "cell_type": "code",
   "execution_count": 145,
   "id": "7496a908-417a-464e-9e81-11437b8bd611",
   "metadata": {},
   "outputs": [
    {
     "data": {
      "text/plain": [
       "array([[False, False, False, False, False, False,  True,  True],\n",
       "       [False, False, False, False, False,  True,  True, False],\n",
       "       [ True, False,  True, False, False,  True,  True, False]])"
      ]
     },
     "execution_count": 145,
     "metadata": {},
     "output_type": "execute_result"
    }
   ],
   "source": [
    "filedata>=50"
   ]
  },
  {
   "cell_type": "code",
   "execution_count": 146,
   "id": "43608782-5d6e-4efd-a16e-823f45b5e0e9",
   "metadata": {},
   "outputs": [
    {
     "data": {
      "text/plain": [
       "array([ 55,  61, 333,  66,  55,  98,  78,  91])"
      ]
     },
     "execution_count": 146,
     "metadata": {},
     "output_type": "execute_result"
    }
   ],
   "source": [
    "filedata[filedata>=50]"
   ]
  },
  {
   "cell_type": "code",
   "execution_count": 147,
   "id": "c6f6b9ee-9391-4cbe-8455-924ea1701c9b",
   "metadata": {},
   "outputs": [],
   "source": [
    "### can index with alist"
   ]
  },
  {
   "cell_type": "code",
   "execution_count": 148,
   "id": "1f84d2d6-aa05-4a0e-92f6-6cb42973cc82",
   "metadata": {},
   "outputs": [
    {
     "data": {
      "text/plain": [
       "array([2, 3, 9])"
      ]
     },
     "execution_count": 148,
     "metadata": {},
     "output_type": "execute_result"
    }
   ],
   "source": [
    "a= np.array([1,2,3,4,5,6,7,8,9])\n",
    "a[[1,2,8]]"
   ]
  },
  {
   "cell_type": "code",
   "execution_count": 149,
   "id": "431b1d6f-d5d9-487d-a61e-aae44143b051",
   "metadata": {},
   "outputs": [
    {
     "data": {
      "text/plain": [
       "array([ True, False,  True, False, False,  True,  True,  True])"
      ]
     },
     "execution_count": 149,
     "metadata": {},
     "output_type": "execute_result"
    }
   ],
   "source": [
    "# axis 0 yra stulpeliai, axis 1 yra eilutes. Bent vienas stulpelyje eatitinka any finkcija\n",
    "np.any(filedata>=50, axis = 0)"
   ]
  },
  {
   "cell_type": "code",
   "execution_count": 150,
   "id": "1a28b7ec-a252-469e-bf32-bd75663efd50",
   "metadata": {},
   "outputs": [
    {
     "data": {
      "text/plain": [
       "array([False, False, False, False, False, False,  True, False])"
      ]
     },
     "execution_count": 150,
     "metadata": {},
     "output_type": "execute_result"
    }
   ],
   "source": [
    "#visi stulpelyje atitinka\n",
    "np.all(filedata>=50, axis = 0)"
   ]
  },
  {
   "cell_type": "code",
   "execution_count": 152,
   "id": "f40b0ef9-7ce1-45f3-91ee-a3150a6cd25b",
   "metadata": {},
   "outputs": [
    {
     "data": {
      "text/plain": [
       "array([[False, False, False, False, False, False,  True,  True],\n",
       "       [False, False, False, False, False, False,  True, False],\n",
       "       [ True, False,  True, False, False,  True,  True, False]])"
      ]
     },
     "execution_count": 152,
     "metadata": {},
     "output_type": "execute_result"
    }
   ],
   "source": [
    "#kombinuota salyga\n",
    "((filedata>=50) & (filedata<100))"
   ]
  },
  {
   "cell_type": "code",
   "execution_count": 153,
   "id": "f88d52ab-9c55-4a38-aa00-01896bf46b8c",
   "metadata": {},
   "outputs": [
    {
     "data": {
      "text/plain": [
       "array([[ True,  True,  True,  True,  True,  True, False, False],\n",
       "       [ True,  True,  True,  True,  True, False, False,  True],\n",
       "       [False,  True, False,  True,  True, False, False,  True]])"
      ]
     },
     "execution_count": 153,
     "metadata": {},
     "output_type": "execute_result"
    }
   ],
   "source": [
    "#kombinuota salyga su salyga not ~\n",
    "(~(filedata>=50) & (filedata<100))"
   ]
  },
  {
   "cell_type": "code",
   "execution_count": null,
   "id": "c89da1bf-d741-47a4-9ce5-0436a7fd11fd",
   "metadata": {},
   "outputs": [],
   "source": []
  }
 ],
 "metadata": {
  "kernelspec": {
   "display_name": "Python 3 (ipykernel)",
   "language": "python",
   "name": "python3"
  },
  "language_info": {
   "codemirror_mode": {
    "name": "ipython",
    "version": 3
   },
   "file_extension": ".py",
   "mimetype": "text/x-python",
   "name": "python",
   "nbconvert_exporter": "python",
   "pygments_lexer": "ipython3",
   "version": "3.9.12"
  }
 },
 "nbformat": 4,
 "nbformat_minor": 5
}
